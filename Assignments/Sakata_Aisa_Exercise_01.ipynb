{
 "cells": [
  {
   "cell_type": "markdown",
   "metadata": {
    "id": "view-in-github"
   },
   "source": [
    "<a href=\"https://colab.research.google.com/github/unt-iialab/INFO5731_Spring2020/blob/master/In_class_exercise/In_class_exercise_01.ipynb\" target=\"_parent\"><img src=\"https://colab.research.google.com/assets/colab-badge.svg\" alt=\"Open In Colab\"/></a>"
   ]
  },
  {
   "cell_type": "markdown",
   "metadata": {
    "id": "DymRJbxDBCnf"
   },
   "source": [
    "# **The first In-class-exercise (08/30/2023, 40 points in total)**\n",
    "This exercise is due tomorrow 08/31/203 11:59 PM.\n"
   ]
  },
  {
   "cell_type": "markdown",
   "metadata": {
    "id": "FBKvD6O_TY6e"
   },
   "source": [
    "(1) Write a Python program to calculate the area of a rectangle using user-input length and width."
   ]
  },
  {
   "cell_type": "code",
   "execution_count": null,
   "metadata": {
    "id": "cikVKDXdTbzE"
   },
   "outputs": [],
   "source": [
    "#Formula of area of a rectangle = length × width\n",
    "length = int(input(\"Length: \"))\n",
    "width = int(input(\"Width: \"))\n",
    "\n",
    "print(length * width)"
   ]
  },
  {
   "cell_type": "markdown",
   "metadata": {
    "id": "E9RqrlwdTfvl"
   },
   "source": [
    "(2) Create a program that takes two numbers from the user and swaps their values without using a temporary variable."
   ]
  },
  {
   "cell_type": "code",
   "execution_count": null,
   "metadata": {
    "id": "4XvRknixTh1g"
   },
   "outputs": [],
   "source": [
    "a, b = input(\"Enter 2 numbers\").split() #Using the split function, two numbers can be taken separately\n",
    "print(b, a)"
   ]
  },
  {
   "cell_type": "markdown",
   "metadata": {
    "id": "03jb4GZsBkBS"
   },
   "source": [
    "(3) Write a Python program to calculate the length of a string."
   ]
  },
  {
   "cell_type": "code",
   "execution_count": null,
   "metadata": {
    "id": "YaGLbSHHB8Ej"
   },
   "outputs": [],
   "source": [
    "word = input(\"Enter a string: \")\n",
    "print(len(word)) #len can get length (num of chars of strings)"
   ]
  },
  {
   "cell_type": "markdown",
   "metadata": {
    "id": "jJDe71iLB616"
   },
   "source": [
    "(4) Write a Python program to count the number of characters in a string.\n",
    "\n",
    "Sample String : 'google.com‘,\n",
    "\n",
    "Expected Result : {'o': 3, 'g': 2, '.': 1, 'e': 1, 'l': 1, 'm': 1, 'c': 1}"
   ]
  },
  {
   "cell_type": "code",
   "execution_count": 1,
   "metadata": {
    "id": "MtKskTzbCLaU"
   },
   "outputs": [
    {
     "name": "stdout",
     "output_type": "stream",
     "text": [
      "Enter a string: google\n",
      "{'g': 2, 'o': 2, 'l': 1, 'e': 1}\n"
     ]
    }
   ],
   "source": [
    "word = input(\"Enter a string: \").lower() #Use .lower() to make all lowercases\n",
    "dic = {} #shows each counts for each chars\n",
    "\n",
    "for i in word:\n",
    "  dic[i] = word.count(i)\n",
    "\n",
    "dic = dict(sorted(dic.items(), key=lambda item: item[1], reverse=True)) #To sort by frequency of chars\n",
    "print(dic)"
   ]
  },
  {
   "cell_type": "markdown",
   "metadata": {
    "id": "55W9AMdXCSpV"
   },
   "source": [
    "(5) Write a Python program to sum all the items in a list."
   ]
  },
  {
   "cell_type": "code",
   "execution_count": null,
   "metadata": {
    "id": "I57NXsauCec2"
   },
   "outputs": [],
   "source": [
    "import random #To make better understanding, I used a randome module this time\n",
    "\n",
    "list = []\n",
    "rng = random.Random() \n",
    "\n",
    "for _ in range(10):\n",
    "  numbers = rng.randrange(1,10)\n",
    "  list.append(numbers)\n",
    "\n",
    "print(list)\n",
    "print(sum(list))"
   ]
  },
  {
   "cell_type": "markdown",
   "metadata": {
    "id": "4ulBZ6yhCi9F"
   },
   "source": [
    "(6) Write a Python program to get a string from a given string where all occurrences of its first char have been changed to '\\$', except the first char itself.\n",
    "\n",
    "Sample String : 'restart‘,\n",
    "\n",
    "Expected Result : 'resta\\$t'"
   ]
  },
  {
   "cell_type": "code",
   "execution_count": null,
   "metadata": {
    "id": "Fj0XhwbBCw2o"
   },
   "outputs": [],
   "source": [
    "string = input()\n",
    "duplicates = [] #Made a list to put all duplicate chars\n",
    "\n",
    "for i in range(len(string)):\n",
    "    for j in range(i + 1, len(string)):\n",
    "        if string[i] == string[j] and string[i] not in duplicates:\n",
    "            duplicates.append(string[i])\n",
    "\n",
    "first_char = string[0]\n",
    "\n",
    "output = first_char + string[1:].replace(first_char, '$', 1)\n",
    "\n",
    "print(output)\n"
   ]
  },
  {
   "cell_type": "markdown",
   "metadata": {
    "id": "qVXA3q7ET5JI"
   },
   "source": [
    "(7) Create a program that calculates the factorial of a number using a while loop."
   ]
  },
  {
   "cell_type": "code",
   "execution_count": 1,
   "metadata": {
    "id": "Lbt7R6UkT7BA"
   },
   "outputs": [],
   "source": [
    "import random #To make better understanding, I used a randome module this time\n",
    "\n",
    "rng = random.Random()\n",
    "number = rng.randrange(1,10)\n",
    "i = 1\n",
    "sum = 0\n",
    "\n",
    "while i != number +1: #Till i become the same number as 'number'\n",
    "  sum += i\n",
    "  i += 1\n",
    "  \n",
    "print(number)\n",
    "print(sum)"
   ]
  },
  {
   "cell_type": "markdown",
   "metadata": {
    "id": "6YfbzXMNT--R"
   },
   "source": [
    "(8) Create a program that takes a list of numbers as input and outputs a new list with only the even numbers."
   ]
  },
  {
   "cell_type": "code",
   "execution_count": null,
   "metadata": {
    "id": "54q7wMQPUAKu"
   },
   "outputs": [],
   "source": [
    "numbers = [int(_) for _ in input(\"Enter numbers: \").split()] #To convert strings to ints\n",
    "\n",
    "for i in numbers:\n",
    "  if i % 2 == 0: \n",
    "    print(i)"
   ]
  },
  {
   "cell_type": "markdown",
   "metadata": {
    "id": "_bIP7s1MCzue"
   },
   "source": [
    "(9) Write a program with python which could accept two parameter a and b to calculate and output the result of S, where\n",
    "\n",
    "$\\ S=3.14*(1+a/b)^3$\n",
    "\n"
   ]
  },
  {
   "cell_type": "code",
   "execution_count": null,
   "metadata": {
    "id": "w79QilHXD3Mg"
   },
   "outputs": [],
   "source": [
    "a, b = input().split()\n",
    "a, b = float(a), float(b)\n",
    "\n",
    "S = 3.14 * (1 + a / b) * 3\n",
    "print(S)\n"
   ]
  },
  {
   "cell_type": "markdown",
   "metadata": {
    "id": "xCa2bK9aD4Q3"
   },
   "source": [
    "(10) Write a Python program to concatenate following dictionaries to create a new one.\n",
    "\n",
    "Sample Dictionary : dic1={1:10, 2:20}, dic2={3:30, 4:40}, dic3={5:50,6:60},\n",
    "\n",
    "Expected Result : {1: 10, 2: 20, 3: 30, 4: 40, 5: 50, 6: 60}\n"
   ]
  },
  {
   "cell_type": "code",
   "execution_count": null,
   "metadata": {
    "id": "_z4aLqAbEET1"
   },
   "outputs": [],
   "source": [
    "dic1={1:10, 2:20}\n",
    "dic2={3:30, 4:40}\n",
    "dic3={5:50,6:60}\n",
    "\n",
    "maindic = {**dic1,**dic2, **dic3}  # ** can put multiple dictionaries altogether\n",
    "print(maindic)"
   ]
  },
  {
   "cell_type": "markdown",
   "metadata": {
    "id": "bkyZ2xSZUOst"
   },
   "source": [
    "(11) Write a Python function that accepts a tuple of integers and returns the largest and smallest elements."
   ]
  },
  {
   "cell_type": "code",
   "execution_count": null,
   "metadata": {
    "id": "3FdLRBKOUQEd"
   },
   "outputs": [],
   "source": [
    "def max_min_values(tuple):\n",
    "    max_value = max(tuple)\n",
    "    min_value = min(tuple)\n",
    "    return max_value, min_value\n",
    "\n",
    "tuples = (1, 2, 3, 4, 5)\n",
    "max_value, min_value = max_min_values(tuple)\n",
    "\n",
    "print(\"Largest: \" , max_value)\n",
    "print(\"Smallest: \" , min_value)"
   ]
  },
  {
   "cell_type": "markdown",
   "metadata": {
    "id": "O0TVi3gKUTpp"
   },
   "source": [
    "(12) Write a Python program that counts the frequency of each character in a given string and stores it in a dictionary."
   ]
  },
  {
   "cell_type": "code",
   "execution_count": null,
   "metadata": {
    "id": "lAtfSfZXUU-h"
   },
   "outputs": [],
   "source": [
    "word = input(\"Enter a string: \").lower()\n",
    "dic = {}\n",
    "\n",
    "for i in word:\n",
    "  dic[i] = word.count(i) \n",
    "\n",
    "print(dic)"
   ]
  },
  {
   "cell_type": "markdown",
   "metadata": {
    "id": "0v48Vqa7FrQh"
   },
   "source": [
    "(13) Write a Python program to check whether an element exists within a tuple."
   ]
  },
  {
   "cell_type": "code",
   "execution_count": 2,
   "metadata": {
    "id": "7WEmgq-DF2P1"
   },
   "outputs": [
    {
     "name": "stdout",
     "output_type": "stream",
     "text": [
      "What do you want to check? banana\n",
      "Element exists\n"
     ]
    }
   ],
   "source": [
    "fruits = (\"apple\", \"banana\", \"kiwi\", \"cherry\", \"melon\")\n",
    "\n",
    "fruit = input(\"What do you want to check? \").lower() #to avoid casesensitive issues\n",
    "if fruit in fruits:\n",
    "  print(\"Element exists\")\n",
    "else:\n",
    "  print(\"Element doesn't exist\")\n"
   ]
  },
  {
   "cell_type": "markdown",
   "metadata": {
    "id": "vD5PYLMuGga_"
   },
   "source": [
    "(14) Write a Python program to find maximum and the minimum value in a set."
   ]
  },
  {
   "cell_type": "code",
   "execution_count": 3,
   "metadata": {
    "id": "t0D5kdJUGjjw"
   },
   "outputs": [
    {
     "name": "stdout",
     "output_type": "stream",
     "text": [
      "Largest:  watermelon\n",
      "Smallest:  banana\n",
      "Largest:  105\n",
      "Smallest:  3\n"
     ]
    }
   ],
   "source": [
    "set1 = {\"fig\", \"banana\", \"kiwi\", \"strawberry\", \"watermelon\"} #I prepared two different sets, string and integers\n",
    "set2 = {59, 10, 3, 56, 105}                                  #Max, min functions for strings work not its length but alphabetical order \n",
    "\n",
    "max_value = max(set1)\n",
    "min_value = min(set1)\n",
    "\n",
    "print(\"Largest: \" , max_value)\n",
    "print(\"Smallest: \" , min_value)\n",
    "\n",
    "max_value = max(set2)\n",
    "min_value = min(set2)\n",
    "\n",
    "print(\"Largest: \" , max_value)\n",
    "print(\"Smallest: \" , min_value)\n"
   ]
  },
  {
   "cell_type": "markdown",
   "metadata": {
    "id": "uHkd-y5VhVWC"
   },
   "source": [
    "(15) Write a Python program to randomly divide the students in this class into six groups for term projects, each group should have at least 4 students but no more than 6 students (including 6). Here is the students list:\n",
    "student_list_fall_2023=['sb1826' ,\n",
    " 'lb0582' ,\n",
    " 'ab1820' ,\n",
    " 'sb1883' ,\n",
    " 'mb1296' ,\n",
    " 'sc1622' ,\n",
    " 'tc0469' ,\n",
    " 'ac1770' ,\n",
    " 'mc1453' ,\n",
    " 'ad1187' ,\n",
    " 'sd0926' ,\n",
    " 'sd1268' ,\n",
    " 'ag1609' ,\n",
    " 'sg1638' ,\n",
    " 'mg1299' ,\n",
    " 'vkk0022' ,\n",
    " 'bk0413' ,\n",
    " 'gk0257' ,\n",
    " 'am2807' ,\n",
    " 'gm0558' ,\n",
    " 'pm0658' ,\n",
    " 'am2346' ,\n",
    " 'rm1090' ,\n",
    " 'sm2364' ,\n",
    " 'sm2747' ,\n",
    " 'sm2343' ,\n",
    " 'vm0597' ,\n",
    " 'htn0086' ,\n",
    " 'sp2075' ,\n",
    " 'gp0306' ,\n",
    " 'lp0502' ,\n",
    " 'sr1508' ,\n",
    " 'vr0331' ,\n",
    " 'yr0180' ,\n",
    " 'as2819' ,\n",
    " 'ss2981' ,\n",
    " 'ns0756' ,\n",
    " 'mt0825' ,\n",
    " 'dt0463' ,\n",
    " 'su0137' ,\n",
    " 'dv0310'\n",
    "]"
   ]
  },
  {
   "cell_type": "code",
   "execution_count": null,
   "metadata": {
    "id": "3iGbmcOBhTwy"
   },
   "outputs": [],
   "source": [
    "import random\n",
    "\n",
    "student_list_fall_2023=['sb1826' , 'lb0582' , 'ab1820' , 'sb1883' , 'mb1296' , 'sc1622' , 'tc0469' , 'ac1770' , 'mc1453' , 'ad1187' , 'sd0926' , 'sd1268' , 'ag1609' , 'sg1638' , 'mg1299' , 'vkk0022' , 'bk0413' , 'gk0257' , 'am2807' , 'gm0558' , 'pm0658' , 'am2346' , 'rm1090' , 'sm2364' , 'sm2747' , 'sm2343' , 'vm0597' , 'htn0086' , 'sp2075' , 'gp0306' , 'lp0502' , 'sr1508' , 'vr0331' , 'yr0180' , 'as2819' , 'ss2981' , 'ns0756' , 'mt0825' , 'dt0463' , 'su0137' , 'dv0310' ]\n",
    "\n",
    "for i in range(6):\n",
    "  num_of_members = random.randint(4, 6) #it randomly choses 4, 5, or 6 members to assign\n",
    "  students = random.sample(student_list_fall_2023, num_of_members)\n",
    "  print(\"Group\",i+1, students)"
   ]
  },
  {
   "cell_type": "markdown",
   "metadata": {
    "id": "fmZ9vX20Qs3d"
   },
   "source": [
    "(16) Write a Python program to find the duplicate elements in a given array of integers. Return -1 If there are no such elements."
   ]
  },
  {
   "cell_type": "code",
   "execution_count": null,
   "metadata": {
    "id": "W8Jw6sWMQs3d"
   },
   "outputs": [],
   "source": [
    "array = [13,9,2,4,10,6,13,8,3,1]\n",
    "duplicates = []\n",
    "\n",
    "for i in range(len(array)):\n",
    "  for j in range(i+1, len(array)):\n",
    "    if array[i] == array[j] and array[i] not in duplicates:\n",
    "      duplicates.append(array[i])\n",
    "\n",
    "if duplicates:\n",
    "  print(duplicates)\n",
    "else:\n",
    "    print('-1')"
   ]
  },
  {
   "cell_type": "markdown",
   "metadata": {
    "id": "hvq4APMhQs3d"
   },
   "source": [
    "(17) Write a Python program to select all the Sundays of a specified year."
   ]
  },
  {
   "cell_type": "code",
   "execution_count": null,
   "metadata": {
    "id": "ZnoxhSglQs3d"
   },
   "outputs": [],
   "source": [
    "import datetime\n",
    "\n",
    "list = []\n",
    "\n",
    "year = int(input(\"Year: \"))\n",
    "\n",
    "for month in range(1, 13): #January to December \n",
    "    for day in range(1, 32): #1st to 31st\n",
    "        try:\n",
    "          date = datetime.date(year, month, day)\n",
    "          if date.weekday() == 6: #As a default, Monday is 0\n",
    "            list.append(date)\n",
    "        except ValueError: #for the case of February\n",
    "          pass\n",
    "\n",
    "for sunday in list:\n",
    "  print(sunday)"
   ]
  },
  {
   "cell_type": "markdown",
   "metadata": {
    "id": "55FWoSJPVVM6"
   },
   "source": [
    "(18) Build a program that calculates the factorial of a given positive integer. The factorial of a non-negative integer n is the product of all positive integers less than or equal to n."
   ]
  },
  {
   "cell_type": "code",
   "execution_count": 2,
   "metadata": {
    "id": "hwtr1wZmVX5A"
   },
   "outputs": [],
   "source": [
    "import random #To make better understanding, I used a randome module this time\n",
    "\n",
    "rng = random.Random()\n",
    "n = rng.randrange(1,100)\n",
    "i = 1\n",
    "sum = 0\n",
    "\n",
    "while i != n +1:\n",
    "  sum += i\n",
    "  i += 1\n",
    "  \n",
    "print(n)\n",
    "print(sum)\n"
   ]
  },
  {
   "cell_type": "markdown",
   "metadata": {
    "id": "Q9ecagcaVazW"
   },
   "source": [
    "(19) Write a program that takes a positive integer n as input and prints the count of even numbers from 1 to n. Use a loop to iterate through the numbers and utilize the break statement to optimize the loop."
   ]
  },
  {
   "cell_type": "code",
   "execution_count": null,
   "metadata": {
    "id": "gycgckoAVZjR"
   },
   "outputs": [],
   "source": [
    "list = []\n",
    "n = int(input(\"Enter a number: \"))\n",
    "\n",
    "while n < 1:\n",
    "    print(\"Enter a positive integer\")\n",
    "    n = int(input(\"Enter a number: \"))\n",
    "    \n",
    "for i in range(1,n+1):\n",
    "  if i % 2 == 0:\n",
    "    list.append(i)\n",
    "  elif i > n:\n",
    "        break        #to optimize the loop\n",
    "\n",
    "print(len(list))\n"
   ]
  },
  {
   "cell_type": "markdown",
   "metadata": {
    "id": "cboAr5pEWUf5"
   },
   "source": [
    "(20) Write a Python function called count_vowels that takes a string as input and returns the count of vowels (both lowercase and uppercase) present in the string. Consider the vowels to be 'a', 'e', 'i', 'o', and 'u'. Ignore spaces and other non-alphabetic characters."
   ]
  },
  {
   "cell_type": "code",
   "execution_count": null,
   "metadata": {
    "id": "phs9gciMWWAW"
   },
   "outputs": [],
   "source": [
    "def count_vowels(string):\n",
    "  vowels = ['a', 'e', 'i', 'o', 'u']\n",
    "  list = []\n",
    "  for i in string:\n",
    "    if i in vowels:\n",
    "      list.append(i)\n",
    "  return len(list)\n",
    "\n",
    "string = input().lower().strip()   #strip can remove blank spaces\n",
    "count_vowels(string)\n",
    "\n"
   ]
  }
 ],
 "metadata": {
  "colab": {
   "provenance": []
  },
  "kernelspec": {
   "display_name": "Python 3 (ipykernel)",
   "language": "python",
   "name": "python3"
  },
  "language_info": {
   "codemirror_mode": {
    "name": "ipython",
    "version": 3
   },
   "file_extension": ".py",
   "mimetype": "text/x-python",
   "name": "python",
   "nbconvert_exporter": "python",
   "pygments_lexer": "ipython3",
   "version": "3.9.13"
  }
 },
 "nbformat": 4,
 "nbformat_minor": 1
}
