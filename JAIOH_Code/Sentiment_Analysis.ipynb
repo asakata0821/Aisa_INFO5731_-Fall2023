{
  "cells": [
    {
      "cell_type": "code",
      "execution_count": null,
      "metadata": {
        "id": "MBLE21fUe_3C"
      },
      "outputs": [],
      "source": [
        "import re\n",
        "import nltk\n",
        "from nltk.corpus import stopwords\n",
        "from transformers import AutoTokenizer, AutoModelForSequenceClassification, logging\n",
        "import torch.nn as nn\n",
        "from scipy.special import softmax\n",
        "import pandas as pd\n",
        "import numpy as np\n",
        "import csv"
      ]
    },
    {
      "cell_type": "code",
      "execution_count": null,
      "metadata": {
        "id": "0e1fALizfOk9"
      },
      "outputs": [],
      "source": [
        "def SentimentAnalysis(texts):\n",
        "  words = []\n",
        "\n",
        "  tweet_proc = \" \".join(texts)\n",
        "\n",
        "  sentiment_labels = ['Negative', 'Neutral', 'Positive']\n",
        "\n",
        "  encoded_tweet = tokenizer(tweet_proc, return_tensors='pt')\n",
        "\n",
        "  output = model(encoded_tweet['input_ids'], encoded_tweet['attention_mask'])\n",
        "\n",
        "  #Showing only sentiment scores (Logits)\n",
        "  scores = output[0][0].detach().numpy()\n",
        "\n",
        "  #Transforming into probabilities\n",
        "  scores = softmax(scores)\n",
        "\n",
        "  negative_scores = []\n",
        "  neutral_scores = []\n",
        "  positive_scores = []\n",
        "\n",
        "  #print(f'Tweet: {text}')\n",
        "  for i in range(len(scores)):\n",
        "    l = sentiment_labels[i]\n",
        "    s = scores[i]\n",
        "    #print(l, s)\n",
        "\n",
        "    if l == 'Negative':\n",
        "      negative_scores.append(s)\n",
        "    elif l == 'Neutral':\n",
        "      neutral_scores.append(s)\n",
        "    elif l == 'Positive':\n",
        "      positive_scores.append(s)\n",
        "\n",
        "\n",
        "  #print(\"***********************************************\")\n",
        "\n",
        "  return negative_scores, neutral_scores, positive_scores"
      ]
    },
    {
      "cell_type": "code",
      "execution_count": null,
      "metadata": {
        "id": "vcSeXr_hf2Wy"
      },
      "outputs": [],
      "source": [
        "roberta = \"cardiffnlp/twitter-roberta-base-sentiment-latest\"\n",
        "model = AutoModelForSequenceClassification.from_pretrained(roberta)\n",
        "tokenizer = AutoTokenizer.from_pretrained(roberta)\n",
        "\n",
        "df = pd.read_csv('SA_Category5.csv')\n",
        "texts = df['0'].notnull()\n",
        "\n",
        "sentiment_data = []\n",
        "\n",
        "for i in texts:\n",
        "    if not isinstance(i, str):\n",
        "        i = str(i)\n",
        "\n",
        "    negative_scores, neutral_scores, positive_scores = SentimentAnalysis(i)\n",
        "\n",
        "    sentiment_data.append({\n",
        "        \"Sentence\": i,\n",
        "        \"Negative Score\": negative_scores,\n",
        "        \"Neutral Score\": neutral_scores,\n",
        "        \"Positive Score\": positive_scores\n",
        "    })\n",
        "\n",
        "output_df = pd.DataFrame(sentiment_data)\n",
        "\n",
        "#Calculating the maximum score for each row\n",
        "output_df['Max Score'] = output_df[['Negative Score', 'Neutral Score', 'Positive Score']].max(axis=1)\n",
        "\n",
        "#Deciding the sentiment based on the maximum score\n",
        "output_df['Sentiment'] = output_df.apply(lambda row: 'Negative' if row['Max Score'] == row['Negative Score']\n",
        "                           else ('Neutral' if row['Max Score'] == row['Neutral Score'] else 'Positive'), axis=1)\n",
        "\n",
        "df['Negative Score'] = output_df['Negative Score']\n",
        "df['Neutral Score'] = output_df['Neutral Score']\n",
        "df['Positive Score'] = output_df['Positive Score']\n",
        "df['Max Score'] = output_df['Max Score']\n",
        "df['Sentiment'] = output_df['Sentiment']\n",
        "\n",
        "df.to_csv('SA_category_5.csv', index=False)\n"
      ]
    }
  ],
  "metadata": {
    "colab": {
      "provenance": []
    },
    "kernelspec": {
      "display_name": "Python 3",
      "name": "python3"
    },
    "language_info": {
      "name": "python"
    }
  },
  "nbformat": 4,
  "nbformat_minor": 0
}
